{
 "cells": [
  {
   "cell_type": "code",
   "execution_count": 2,
   "metadata": {},
   "outputs": [
    {
     "name": "stdout",
     "output_type": "stream",
     "text": [
      "WARNING:tensorflow:From /usr/local/home/pfurlong/projects/delta/venv/lib/python3.6/site-packages/tensorflow/python/ops/resource_variable_ops.py:435: colocate_with (from tensorflow.python.framework.ops) is deprecated and will be removed in a future version.\n",
      "Instructions for updating:\n",
      "Colocations handled automatically by placer.\n",
      "WARNING:tensorflow:From /usr/local/home/pfurlong/projects/delta/venv/lib/python3.6/site-packages/tensorflow/python/ops/math_ops.py:3066: to_int32 (from tensorflow.python.ops.math_ops) is deprecated and will be removed in a future version.\n",
      "Instructions for updating:\n",
      "Use tf.cast instead.\n"
     ]
    }
   ],
   "source": [
    "import tensorflow as tf\n",
    "from tensorflow import keras\n",
    "\n",
    "\n",
    "model = keras.models.load_model('../data/out/bay_area_autoencoder.net')"
   ]
  },
  {
   "cell_type": "code",
   "execution_count": 40,
   "metadata": {},
   "outputs": [
    {
     "name": "stdout",
     "output_type": "stream",
     "text": [
      "4\n"
     ]
    }
   ],
   "source": [
    "num_layers = len(model.layers)\n",
    "# Should be 1 flatten layer, plus an odd number of \n",
    "# layers for the autoencoder.\n",
    "assert(num_layers % 2 == 0)\n",
    "print(num_layers)\n",
    "\n",
    "\n",
    "def copy_layer(l):\n",
    "    l.trainable = False\n",
    "    return l\n",
    "\n",
    "copied_layers = [copy_layer(model.layers[idx]) for idx in range((num_layers // 2)+1)]\n",
    "\n",
    "new_layer = keras.layers.Dense(1,activation=tf.nn.sigmoid)\n",
    "copied_layers.append(new_layer)\n",
    "\n",
    "seq_model = keras.Sequential(copied_layers)\n",
    "model.compile(optimizer='adam',loss='mean_squared_logarithmic_error',metrics=['accuracy'])"
   ]
  }
 ],
 "metadata": {
  "kernelspec": {
   "display_name": "Python 3",
   "language": "python",
   "name": "python3"
  },
  "language_info": {
   "codemirror_mode": {
    "name": "ipython",
    "version": 3
   },
   "file_extension": ".py",
   "mimetype": "text/x-python",
   "name": "python",
   "nbconvert_exporter": "python",
   "pygments_lexer": "ipython3",
   "version": "3.6.7"
  }
 },
 "nbformat": 4,
 "nbformat_minor": 2
}
